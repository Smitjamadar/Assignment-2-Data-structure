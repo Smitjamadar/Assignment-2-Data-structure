{
 "cells": [
  {
   "cell_type": "code",
   "execution_count": null,
   "id": "c056cfb4-565e-48bf-b184-a1f5e0c3cc84",
   "metadata": {},
   "outputs": [],
   "source": [
    "1 - Discuss string slicing and provide examples.\n",
    "\n",
    "Answer - String slicing in Python is a technique used to access a subset of characters from a string. This is done by specifying a range of indices.\n"
   ]
  },
  {
   "cell_type": "code",
   "execution_count": 1,
   "id": "4aecabe9-d680-495b-9313-2f46e2ec1a68",
   "metadata": {},
   "outputs": [
    {
     "name": "stdout",
     "output_type": "stream",
     "text": [
      "Hello\n",
      "Hello\n",
      "World!\n"
     ]
    }
   ],
   "source": [
    "s = \"Hello, World!\"\n",
    "substring = s[0:5]\n",
    "print(substring)\n",
    "\n",
    "\n",
    "s = \"Hello, World!\"\n",
    "sn= s[:5]\n",
    "sl= s[7:]\n",
    "print(sn)\n",
    "print(sl)"
   ]
  },
  {
   "cell_type": "code",
   "execution_count": 2,
   "id": "88066301-3b71-4d88-bea5-5016d6b38293",
   "metadata": {},
   "outputs": [
    {
     "name": "stdout",
     "output_type": "stream",
     "text": [
      "r\n",
      "lo o\n"
     ]
    }
   ],
   "source": [
    "s = \"Hello, World!\"\n",
    "l = s[-4]\n",
    "print(l)\n",
    "\n",
    "s = \"Hello, World!\"\n",
    "custom_slice = s[2:9:2]\n",
    "print(custom_slice)"
   ]
  },
  {
   "cell_type": "code",
   "execution_count": null,
   "id": "4f524abd-aa4f-4bac-a25a-66efa668c8fa",
   "metadata": {},
   "outputs": [],
   "source": [
    "2 - Explain the key features of lists in Python.\n",
    "\n",
    "Answer - Lists in Python are one of the most versatile and commonly used data structures. They are ordered, mutable, and can hold a variety of object types. The key features of lists is Ordered,Mutable,Dynamic,Heterogeneous,indexing and Slicing,Built-in Functions and Methods, etc.\n",
    "\n",
    "Ordered Collection - Lists maintain the order of items. The order in which elements are added is preserved.Each element in a list has a specific index, starting from 0.\n",
    "\n",
    "Mutable - Lists can be modified after their creation. Elements can be added, removed, or changed.This is different from tuples, which are immutable.\n",
    "\n",
    "Dynamic - Lists can grow or shrink in size. You can add or remove elements as needed.\n",
    "\n",
    "Heterogeneous Elements - A list can contain elements of different data types, including integers, strings, floats, objects, and even other lists.\n",
    "\n",
    "3 - Describe how to access, modify and delete elements in a list with examples.\n",
    "\n",
    "Answer - (Access) In Python, you can access elements in a list using indexing and slicing.\n",
    "\n",
    "Indexing - Indexing allows you to access individual elements by their position. Indices start at 0 for the first element and increase by 1 for each subsequent element.\n",
    "\n",
    "Slicing - Slicing allows you to access a range of elements.where start is the index of the first element to include, and stop is the index of the first element to exclude.\n",
    "\n",
    "Modify - Modifying elements in a list in Python can be done in several ways, including changing individual elements, modifying multiple elements at once, and using list comprehensions.\n",
    "\n",
    "Delete - Deleting elements in a list can be done using various methods in Python, including the del statement, the remove() method, and the pop() method."
   ]
  },
  {
   "cell_type": "code",
   "execution_count": 4,
   "id": "2ecb6d8e-93bd-457c-b62f-eb2460b30796",
   "metadata": {},
   "outputs": [
    {
     "name": "stdout",
     "output_type": "stream",
     "text": [
      "10\n",
      "30\n",
      "50\n"
     ]
    }
   ],
   "source": [
    "#indexing\n",
    "my_list = [10, 20, 30, 40, 50]\n",
    "a = my_list[0]\n",
    "b = my_list[2]\n",
    "c = my_list[4]\n",
    "\n",
    "print(a)\n",
    "print(b)\n",
    "print(c)"
   ]
  },
  {
   "cell_type": "code",
   "execution_count": 5,
   "id": "dee6c2e6-a9e2-4f0d-b9ed-3842248453fe",
   "metadata": {},
   "outputs": [
    {
     "name": "stdout",
     "output_type": "stream",
     "text": [
      "[10, 20, 30, 40, 50]\n",
      "[30]\n"
     ]
    }
   ],
   "source": [
    "#slicing\n",
    "my_list = [10, 20, 30, 40, 50]\n",
    "a = my_list[0:5]\n",
    "b = my_list[2:-2]\n",
    "\n",
    "print(a)\n",
    "print(b)"
   ]
  },
  {
   "cell_type": "code",
   "execution_count": 6,
   "id": "97f61001-7093-4204-9d3b-221b9d18a830",
   "metadata": {},
   "outputs": [
    {
     "name": "stdout",
     "output_type": "stream",
     "text": [
      "[10, 25, 30, 40, 50]\n"
     ]
    }
   ],
   "source": [
    "#modify\n",
    "my_list = [10, 20, 30, 40, 50]\n",
    "my_list[1] = 25\n",
    "print(my_list)"
   ]
  },
  {
   "cell_type": "code",
   "execution_count": 7,
   "id": "18452532-a60b-4e9a-835a-c5e61a3a9012",
   "metadata": {},
   "outputs": [
    {
     "name": "stdout",
     "output_type": "stream",
     "text": [
      "[10, 20, 40, 50]\n"
     ]
    }
   ],
   "source": [
    "#delete\n",
    "my_list = [10, 20, 30, 40, 50]\n",
    "del my_list[2]\n",
    "print(my_list)"
   ]
  },
  {
   "cell_type": "code",
   "execution_count": 8,
   "id": "0d21a316-3e0c-43b1-ba11-105c3384ea5e",
   "metadata": {},
   "outputs": [
    {
     "name": "stdout",
     "output_type": "stream",
     "text": [
      "[10, 20, 40, 50]\n"
     ]
    }
   ],
   "source": [
    "#remove\n",
    "my_list = [10, 20, 30, 40, 50]\n",
    "my_list.remove(30)\n",
    "print(my_list)"
   ]
  },
  {
   "cell_type": "code",
   "execution_count": 9,
   "id": "988a78d4-5a05-48e3-b79b-44dbb0a3a482",
   "metadata": {},
   "outputs": [
    {
     "name": "stdout",
     "output_type": "stream",
     "text": [
      "50\n",
      "[10, 20, 30, 40]\n"
     ]
    }
   ],
   "source": [
    "#pop\n",
    "my_list = [10, 20, 30, 40, 50]\n",
    "last_element = my_list.pop()\n",
    "print(last_element)\n",
    "print(my_list)"
   ]
  },
  {
   "cell_type": "code",
   "execution_count": null,
   "id": "803e2aeb-3f3b-4976-bc60-d1085907795b",
   "metadata": {},
   "outputs": [],
   "source": [
    "4 - Compare and contrast tuples and lists with examples.\n",
    "\n",
    "Answer - Tuples and lists are both sequence data types in Python that can store a collection of items.\n",
    "\n",
    "Similarities - Ordered - Both tuples and lists maintain the order of elements. Indexing: Elements in both tuples and lists can be accessed using indexing and slicing. Heterogeneous: Both can store elements of different data types Iterability: Both can be iterated over using loops.\n",
    "\n",
    "Differences Mutability - Lists are mutable, meaning their elements can be changed after creation. Tuples are immutable, meaning once created, their elements cannot be changed. List are enclosed with square brackets [],whereas tuple are enclosed with parentheses ()"
   ]
  },
  {
   "cell_type": "code",
   "execution_count": 10,
   "id": "b52fdf0c-a4ef-4356-83b2-ab8a5f5574d2",
   "metadata": {},
   "outputs": [
    {
     "name": "stdout",
     "output_type": "stream",
     "text": [
      "[1, 2, 3, 4]\n",
      "[10, 2, 3, 4]\n",
      "[10, 2, 3, 4, 5]\n",
      "[10, 2, 4, 5]\n"
     ]
    }
   ],
   "source": [
    "#list\n",
    "my_list = [1, 2, 3, 4]\n",
    "print(my_list)\n",
    "\n",
    "# Modifying the list\n",
    "my_list[0] = 10\n",
    "print(my_list)\n",
    "\n",
    "# Adding an element\n",
    "my_list.append(5)\n",
    "print(my_list)\n",
    "\n",
    "# Removing an element\n",
    "my_list.remove(3)\n",
    "print(my_list)"
   ]
  },
  {
   "cell_type": "code",
   "execution_count": 11,
   "id": "dd84a5f2-eaee-4e61-801c-e1a4e8a4ceab",
   "metadata": {},
   "outputs": [
    {
     "name": "stdout",
     "output_type": "stream",
     "text": [
      "(1, 2, 3, 4)\n",
      "1\n",
      "(2, 3)\n",
      "1\n",
      "2\n"
     ]
    }
   ],
   "source": [
    "#tuple\n",
    "my_tuple = (1, 2, 3, 4)\n",
    "print(my_tuple)\n",
    "\n",
    "# Tuples support indexing and slicing\n",
    "print(my_tuple[0])\n",
    "print(my_tuple[1:3])\n",
    "\n",
    "# Counting and finding elements\n",
    "print(my_tuple.count(2))\n",
    "print( my_tuple.index(3))"
   ]
  },
  {
   "cell_type": "code",
   "execution_count": null,
   "id": "89f48bcd-b309-4da7-818f-1d4b359ddf69",
   "metadata": {},
   "outputs": [],
   "source": [
    "5 - Describe the key features of sets and provide examples of their use.\n",
    "\n",
    "Answer - key features of sets are:\n",
    "\n",
    "Unordered: Elements in a set do not have a defined order.\n",
    "\n",
    "Unique Elements: Sets do not allow duplicate elements.\n",
    "\n",
    "Mutable: Sets are mutable, meaning you can add or remove elements.\n",
    "\n",
    "Heterogeneous: Sets can contain elements of different types, but all elements must be hashable."
   ]
  },
  {
   "cell_type": "code",
   "execution_count": 12,
   "id": "8daf1164-c1e3-4d3f-bba5-42617d49de0b",
   "metadata": {},
   "outputs": [
    {
     "name": "stdout",
     "output_type": "stream",
     "text": [
      "{1, 2, 3, 4, 5}\n",
      "{1, 2, 3, 4, 5}\n"
     ]
    }
   ],
   "source": [
    "#set\n",
    "my_set = {1, 2, 3, 4, 5}\n",
    "print(my_set)\n",
    "\n",
    "another_set = set([1, 2, 3, 4, 5])\n",
    "print(another_set)"
   ]
  },
  {
   "cell_type": "code",
   "execution_count": 13,
   "id": "fd71a920-088d-4652-a5f8-d549fcc3dbf8",
   "metadata": {},
   "outputs": [
    {
     "name": "stdout",
     "output_type": "stream",
     "text": [
      "{1, 2, 3, 4}\n",
      "{1, 3, 4}\n",
      "{1, 3, 4}\n",
      "1\n",
      "{3, 4}\n",
      "set()\n"
     ]
    }
   ],
   "source": [
    "my_set = {1, 2, 3}\n",
    "\n",
    "# Adding an element\n",
    "my_set.add(4)\n",
    "print(my_set)\n",
    "\n",
    "# Removing an element\n",
    "my_set.remove(2)\n",
    "print(my_set)\n",
    "\n",
    "# Discarding an element (won't raise an error if the element is not present)\n",
    "my_set.discard(5)\n",
    "print(my_set)\n",
    "\n",
    "# Removing and returning an arbitrary element\n",
    "removed_element = my_set.pop()\n",
    "print(removed_element)\n",
    "print(my_set)\n",
    "\n",
    "# Clearing all elements\n",
    "my_set.clear()\n",
    "print(my_set)"
   ]
  },
  {
   "cell_type": "code",
   "execution_count": null,
   "id": "a0e8a355-51ba-4508-9840-5dd8e731497b",
   "metadata": {},
   "outputs": [],
   "source": [
    "6 - Discuss the use cases of tuples and sets in Python programming.\n",
    "\n",
    "Answer - Tuples and sets are both essential data structures in Python, each serving specific purposes due to their unique properties."
   ]
  },
  {
   "cell_type": "code",
   "execution_count": 15,
   "id": "ac784dbd-36cc-4ea3-86f2-7853ac1dd9dd",
   "metadata": {},
   "outputs": [
    {
     "name": "stdout",
     "output_type": "stream",
     "text": [
      "{1, 2, 3, 4, 5}\n",
      "{3}\n",
      "{1, 2}\n",
      "{1, 2, 4, 5}\n",
      "('cherry', 'orange', 'kiwi')\n",
      "('apple', 'banana', 'cherry', 'orange')\n",
      "('apple', 'kiwi', 'cherry')\n"
     ]
    }
   ],
   "source": [
    "#set\n",
    "set1 = {1, 2, 3}\n",
    "set2 = {3, 4, 5}\n",
    "\n",
    "union = set1.union(set2)\n",
    "print(union)\n",
    "\n",
    "intersection = set1.intersection(set2)\n",
    "print(intersection)\n",
    "\n",
    "difference = set1.difference(set2)\n",
    "print(difference)\n",
    "\n",
    "symmetric_difference = set1.symmetric_difference(set2)\n",
    "print(symmetric_difference)\n",
    "\n",
    "\n",
    "#tuple\n",
    "thistuple = (\"apple\", \"banana\", \"cherry\", \"orange\", \"kiwi\", \"melon\", \"mango\")\n",
    "print(thistuple[2:5])\n",
    "\n",
    "thistuple = (\"apple\", \"banana\", \"cherry\")\n",
    "y = (\"orange\",)\n",
    "thistuple += y\n",
    "\n",
    "print(thistuple)\n",
    "\n",
    "\n",
    "x = (\"apple\", \"banana\", \"cherry\")\n",
    "y = list(x)\n",
    "y[1] = \"kiwi\"\n",
    "x = tuple(y)\n",
    "\n",
    "print(x)\n"
   ]
  },
  {
   "cell_type": "code",
   "execution_count": null,
   "id": "06102783-6864-42d1-ad5c-ec1630972e96",
   "metadata": {},
   "outputs": [],
   "source": [
    "7 - Describe how to add, modify and delete items in a dictionary with examples.\n",
    "\n",
    "Answer - Dictionaries in Python are collections of key-value pairs where each key is unique. They are mutable, allowing for the addition, modification, and deletion of items."
   ]
  },
  {
   "cell_type": "code",
   "execution_count": 16,
   "id": "fd9fffbc-a913-4cdc-8213-82dac1e79d0d",
   "metadata": {},
   "outputs": [
    {
     "name": "stdout",
     "output_type": "stream",
     "text": [
      "{'name': 'Alice', 'age': 30, 'city': 'New York'}\n",
      "{'name': 'Alice', 'age': 30, 'city': 'New York', 'country': 'USA', 'occupation': 'Engineer'}\n",
      "{'name': 'Alice', 'age': 31, 'city': 'Los Angeles', 'country': 'USA', 'occupation': 'Engineer'}\n"
     ]
    }
   ],
   "source": [
    "my_dict = {}\n",
    "\n",
    "# Adding items\n",
    "my_dict['name'] = 'Alice'\n",
    "my_dict['age'] = 30\n",
    "my_dict['city'] = 'New York'\n",
    "print(my_dict)\n",
    "\n",
    "# Using update\n",
    "my_dict.update({'country': 'USA', 'occupation': 'Engineer'})\n",
    "print(my_dict)\n",
    "\n",
    "# Modifying items\n",
    "my_dict['age'] = 31\n",
    "my_dict['city'] = 'Los Angeles'\n",
    "print(my_dict)"
   ]
  },
  {
   "cell_type": "code",
   "execution_count": 17,
   "id": "ae1c1510-b721-4491-9552-2d978d193c69",
   "metadata": {},
   "outputs": [
    {
     "name": "stdout",
     "output_type": "stream",
     "text": [
      "{'name': 'Alice', 'age': 30, 'country': 'USA', 'occupation': 'Engineer'}\n",
      "{}\n"
     ]
    }
   ],
   "source": [
    "# Deleting a specific item\n",
    "my_dict['name'] = 'Alice'\n",
    "my_dict['age'] = 30\n",
    "my_dict['city'] = 'New York'\n",
    "del my_dict['city']\n",
    "\n",
    "print(my_dict)\n",
    "\n",
    "\n",
    "# Deleting all items\n",
    "my_dict.clear()\n",
    "\n",
    "print(my_dict)"
   ]
  },
  {
   "cell_type": "code",
   "execution_count": null,
   "id": "3b10a089-c48a-43d8-bc66-ff5515ee791e",
   "metadata": {},
   "outputs": [],
   "source": [
    "8 - Discuss the importance of dictionary keys being immutable and provide examples.\n",
    "\n",
    "Answer - In Python, dictionary keys must be immutable because immutability ensures that the key remains constant throughout the lifetime of the dictionary\n",
    "\n",
    "Importance of Immutable Keys Hash Consistency- Dictionary keys are hashed to quickly locate the associated values.Immutable objects have a fixed hash value that remains constant during their lifetime, which allows the dictionary to efficiently retrieve values.\n",
    "\n",
    "Data Integrity- Immutability guarantees that the key will not be altered, preserving the integrity of the dictionary's internal structure. This ensures that the key-value mappings are stable and reliable.\n",
    "\n",
    "Immutable Keys are Strings,Tuples,Integers and Floats."
   ]
  },
  {
   "cell_type": "code",
   "execution_count": 19,
   "id": "106cdd2c-ff0c-47d7-bd1d-a8ef3dbc7350",
   "metadata": {},
   "outputs": [
    {
     "name": "stdout",
     "output_type": "stream",
     "text": [
      "Alice\n",
      "30\n"
     ]
    }
   ],
   "source": [
    "#string\n",
    "my_dict = {'name': 'Alice', 'age': 30}\n",
    "print(my_dict['name'])\n",
    "print(my_dict['age'])"
   ]
  },
  {
   "cell_type": "code",
   "execution_count": 20,
   "id": "4257538b-b6ba-4cb2-be10-9e9f60321438",
   "metadata": {},
   "outputs": [
    {
     "name": "stdout",
     "output_type": "stream",
     "text": [
      "hello\n"
     ]
    }
   ],
   "source": [
    "#tuple\n",
    "my_dict = {('x', 1): 'hello', ('y', 2): 'world'}\n",
    "print(my_dict[('x', 1)])"
   ]
  },
  {
   "cell_type": "code",
   "execution_count": 22,
   "id": "2802e2dd-a5f9-4c50-89f2-61029574bf87",
   "metadata": {},
   "outputs": [
    {
     "name": "stdout",
     "output_type": "stream",
     "text": [
      "one\n",
      "two\n"
     ]
    }
   ],
   "source": [
    "#int and float\n",
    "my_dict = {1: 'one', 2: 'two'}\n",
    "print(my_dict[1])\n",
    "print(my_dict[2])"
   ]
  },
  {
   "cell_type": "code",
   "execution_count": null,
   "id": "2e493d3e-b1f7-42c0-89e7-1df6398865eb",
   "metadata": {},
   "outputs": [],
   "source": []
  }
 ],
 "metadata": {
  "kernelspec": {
   "display_name": "Python 3 (ipykernel)",
   "language": "python",
   "name": "python3"
  },
  "language_info": {
   "codemirror_mode": {
    "name": "ipython",
    "version": 3
   },
   "file_extension": ".py",
   "mimetype": "text/x-python",
   "name": "python",
   "nbconvert_exporter": "python",
   "pygments_lexer": "ipython3",
   "version": "3.9.6"
  }
 },
 "nbformat": 4,
 "nbformat_minor": 5
}
